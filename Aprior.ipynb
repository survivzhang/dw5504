{
 "cells": [
  {
   "cell_type": "code",
   "execution_count": 1,
   "id": "89934057-f049-4783-ba0e-e5165fc1e015",
   "metadata": {},
   "outputs": [],
   "source": [
    "#Import necessary libraries, pandas, numpy and mlxtend\n",
    "import pandas as pd\n",
    "import numpy as np\n",
    "import mlxtend\n",
    "from mlxtend.preprocessing import TransactionEncoder\n",
    "from mlxtend.frequent_patterns import apriori\n",
    "from mlxtend.frequent_patterns import association_rules"
   ]
  },
  {
   "cell_type": "code",
   "execution_count": 2,
   "id": "fbed7188-fcd5-43bd-b511-0b1f397bfe55",
   "metadata": {},
   "outputs": [
    {
     "name": "stdout",
     "output_type": "stream",
     "text": [
      "       Crash ID State  Month  Year    Dayweek      Time Crash Type  \\\n",
      "0      20241115   NSW     12  2024     Friday  04:00:00     Single   \n",
      "1      20241125   NSW     12  2024     Friday  06:15:00     Single   \n",
      "2      20246013   Tas     12  2024     Friday  09:43:00   Multiple   \n",
      "3      20241002   NSW     12  2024     Friday  10:35:00   Multiple   \n",
      "4      20242261   Vic     12  2024     Friday  11:30:00   Multiple   \n",
      "...         ...   ...    ...   ...        ...       ...        ...   \n",
      "56492  19896006   Tas      1  1989  Wednesday  20:20:00   Multiple   \n",
      "56493  19896006   Tas      1  1989  Wednesday  20:20:00   Multiple   \n",
      "56494  19896006   Tas      1  1989  Wednesday  20:20:00   Multiple   \n",
      "56495  19896006   Tas      1  1989  Wednesday  20:20:00   Multiple   \n",
      "56496  19895133    WA      1  1989  Wednesday  21:00:00   Multiple   \n",
      "\n",
      "       Number Fatalities Bus \\nInvolvement Heavy Rigid Truck Involvement  ...  \\\n",
      "0                      1                No                            No  ...   \n",
      "1                      1                No                            No  ...   \n",
      "2                      1                No                            No  ...   \n",
      "3                      1                No                            No  ...   \n",
      "4                      1      Undetermined                  Undetermined  ...   \n",
      "...                  ...               ...                           ...  ...   \n",
      "56492                  6                No                  Undetermined  ...   \n",
      "56493                  6                No                  Undetermined  ...   \n",
      "56494                  6                No                  Undetermined  ...   \n",
      "56495                  6                No                  Undetermined  ...   \n",
      "56496                  1                No                  Undetermined  ...   \n",
      "\n",
      "      Easter Period  Day of week Time of Day Bus Involvement  Road User  \\\n",
      "0                No      Weekday       Night              No     Driver   \n",
      "1                No      Weekday         Day              No     Driver   \n",
      "2                No      Weekday         Day              No     Driver   \n",
      "3                No      Weekday         Day              No     Driver   \n",
      "4                No      Weekday         Day    Undetermined  Passenger   \n",
      "...             ...          ...         ...             ...        ...   \n",
      "56492            No      Weekday       Night              No  Passenger   \n",
      "56493            No      Weekday       Night              No  Passenger   \n",
      "56494            No      Weekday       Night              No     Driver   \n",
      "56495            No      Weekday       Night              No  Passenger   \n",
      "56496            No      Weekday       Night              No     Driver   \n",
      "\n",
      "       Gender   Age Age Group Time of day Dwelling Records  \n",
      "0        Male  74.0  65_to_74       Night             -9.0  \n",
      "1      Female  19.0  17_to_25         Day             -9.0  \n",
      "2      Female  33.0  26_to_39         Day             -9.0  \n",
      "3      Female  32.0  26_to_39         Day             -9.0  \n",
      "4        Male  62.0  40_to_64         Day             -9.0  \n",
      "...       ...   ...       ...         ...              ...  \n",
      "56492  Female  13.0   0_to_16       Night             -9.0  \n",
      "56493    Male  13.0   0_to_16       Night             -9.0  \n",
      "56494    Male  18.0  17_to_25       Night             -9.0  \n",
      "56495  Female  14.0   0_to_16       Night             -9.0  \n",
      "56496    Male  70.0  65_to_74       Night             -9.0  \n",
      "\n",
      "[56497 rows x 27 columns]\n"
     ]
    }
   ],
   "source": [
    "#Read the csv file\n",
    "df = pd.read_csv('total.csv')\n",
    "\n",
    "#print the df\n",
    "print(df)"
   ]
  },
  {
   "cell_type": "code",
   "execution_count": 5,
   "id": "bd036e28-575a-4516-94b2-35bddd2fe64d",
   "metadata": {},
   "outputs": [
    {
     "data": {
      "text/plain": [
       "(56497, 27)"
      ]
     },
     "execution_count": 5,
     "metadata": {},
     "output_type": "execute_result"
    }
   ],
   "source": [
    "#Show the data head\n",
    "df.head()\n",
    "\n",
    "#Check the data types in the dataframe\n",
    "df.dtypes\n",
    "\n",
    "#The columns of the dataframe\n",
    "df.columns\n",
    "\n",
    "#Check the number of rows and columns\n",
    "df.shape"
   ]
  },
  {
   "cell_type": "code",
   "execution_count": 7,
   "id": "793c5408-1707-413f-a581-7e7b1ded402a",
   "metadata": {},
   "outputs": [
    {
     "data": {
      "text/plain": [
       "Crash ID                         0\n",
       "State                            0\n",
       "Month                            0\n",
       "Year                             0\n",
       "Dayweek                          0\n",
       "Time                             0\n",
       "Crash Type                       0\n",
       "Number Fatalities                0\n",
       "Bus \\nInvolvement                0\n",
       "Heavy Rigid Truck Involvement    0\n",
       "Articulated Truck Involvement    0\n",
       "Speed Limit                      0\n",
       "National Remoteness Areas        0\n",
       "SA4 Name 2021                    0\n",
       "National LGA Name 2021           0\n",
       "National Road Type               0\n",
       "Christmas Period                 0\n",
       "Easter Period                    0\n",
       "Day of week                      0\n",
       "Time of Day                      0\n",
       "Bus Involvement                  0\n",
       "Road User                        0\n",
       "Gender                           0\n",
       "Age                              0\n",
       "Age Group                        0\n",
       "Time of day                      0\n",
       "Dwelling Records                 0\n",
       "dtype: int64"
      ]
     },
     "execution_count": 7,
     "metadata": {},
     "output_type": "execute_result"
    }
   ],
   "source": [
    "#Check missing values in the dataframe\n",
    "df.isna()\n",
    "\n",
    "#Count total missing values at each column in the dataframe\n",
    "df.isna().sum()"
   ]
  },
  {
   "cell_type": "code",
   "execution_count": 8,
   "id": "7e825d22-c0ec-406a-b5a8-a3de847f8796",
   "metadata": {},
   "outputs": [],
   "source": [
    "#Drop the column, 'id'.\n",
    "new_df = df.drop('Crash ID',axis = 'columns')"
   ]
  },
  {
   "cell_type": "code",
   "execution_count": 9,
   "id": "62bf7dbb-ba3c-484e-857c-a9e854d95771",
   "metadata": {},
   "outputs": [],
   "source": [
    "#Data transformation\n",
    "#TransactionEncoder() function only can handle string type\n",
    "new_df = new_df.astype(str)\n",
    "\n",
    "#TransactionEncoder() was designed to covert lists to array\n",
    "list = new_df.values.tolist()\n",
    "\n",
    "#Covert the list to one-hot encoded boolean numpy array. \n",
    "#Apriori function allows boolean data type only, such as 1 and 0, or FALSE and TRUE.\n",
    "te = TransactionEncoder()\n",
    "array_te = te.fit(list).transform(list)\n",
    "\n",
    "#Check the array\n",
    "array_te\n",
    "\n",
    "#Check the colunms\n",
    "te.columns_\n",
    "\n",
    "#Apriori function can handle dataframe only, covert the array to a dataframe\n",
    "arm_df = pd.DataFrame(array_te, columns = te.columns_)"
   ]
  },
  {
   "cell_type": "code",
   "execution_count": 13,
   "id": "9cd8d8ef-1d1e-428e-a654-2f7eb830a6dc",
   "metadata": {},
   "outputs": [],
   "source": [
    "#Find the frequent itemsets\n",
    "frequent_itemsets = apriori(arm_df,min_support=0.2,use_colnames =True)\n",
    "\n",
    "#Check the length of rules\n",
    "frequent_itemsets['length']=frequent_itemsets['itemsets'].apply(lambda x: len(x))\n",
    "\n"
   ]
  },
  {
   "cell_type": "code",
   "execution_count": 14,
   "id": "01a12467-e3d6-451c-b75d-b79cccedd773",
   "metadata": {},
   "outputs": [],
   "source": [
    "# 假设 frequent_itemsets 是你的频繁项集 DataFrame\n",
    "filtered_itemsets = frequent_itemsets[(frequent_itemsets['length'] == 2) & (frequent_itemsets['support'] >= 0.2)]\n",
    "\n",
    "# 将筛选后的频繁项集输出为 CSV 文件\n",
    "filtered_itemsets.to_csv('filtered_frequent_itemsets.csv', index=False)\n"
   ]
  },
  {
   "cell_type": "code",
   "execution_count": 11,
   "id": "fff259d4-e1e3-4464-a8d6-396000783007",
   "metadata": {},
   "outputs": [
    {
     "name": "stderr",
     "output_type": "stream",
     "text": [
      "/Users/survivmac/Desktop/5504 DW/Geojson files/myenv/lib/python3.13/site-packages/mlxtend/frequent_patterns/association_rules.py:186: RuntimeWarning: invalid value encountered in divide\n",
      "  cert_metric = np.where(certainty_denom == 0, 0, certainty_num / certainty_denom)\n"
     ]
    }
   ],
   "source": [
    "#Assume the min confidence is 0.5\n",
    "rules_con = association_rules(frequent_itemsets, metric=\"confidence\",min_threshold=0.5)"
   ]
  },
  {
   "cell_type": "code",
   "execution_count": 11,
   "id": "c60c3abc-7e69-43a3-bca7-fb54063a3668",
   "metadata": {},
   "outputs": [
    {
     "name": "stderr",
     "output_type": "stream",
     "text": [
      "/Users/survivmac/Desktop/5504 DW/Geojson files/myenv/lib/python3.13/site-packages/mlxtend/frequent_patterns/association_rules.py:186: RuntimeWarning: invalid value encountered in divide\n",
      "  cert_metric = np.where(certainty_denom == 0, 0, certainty_num / certainty_denom)\n"
     ]
    }
   ],
   "source": [
    "#Assume the min confidence is 0.5\n",
    "rules_con = association_rules(frequent_itemsets, metric=\"confidence\",min_threshold=0.5)"
   ]
  },
  {
   "cell_type": "code",
   "execution_count": null,
   "id": "8204f8d6-1cc5-4296-80f7-d4fbc8e04a77",
   "metadata": {},
   "outputs": [],
   "source": []
  }
 ],
 "metadata": {
  "kernelspec": {
   "display_name": "Python 3 (ipykernel)",
   "language": "python",
   "name": "python3"
  },
  "language_info": {
   "codemirror_mode": {
    "name": "ipython",
    "version": 3
   },
   "file_extension": ".py",
   "mimetype": "text/x-python",
   "name": "python",
   "nbconvert_exporter": "python",
   "pygments_lexer": "ipython3",
   "version": "3.13.2"
  }
 },
 "nbformat": 4,
 "nbformat_minor": 5
}
