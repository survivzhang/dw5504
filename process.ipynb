{
 "cells": [
  {
   "cell_type": "code",
   "execution_count": 1,
   "id": "f1df0fe2-6a00-43d7-9f2e-16adf202934d",
   "metadata": {},
   "outputs": [],
   "source": [
    "import pandas as pd"
   ]
  },
  {
   "cell_type": "code",
   "execution_count": 2,
   "id": "976221f0-e8d0-40b3-b405-71ae29f877e8",
   "metadata": {},
   "outputs": [
    {
     "name": "stdout",
     "output_type": "stream",
     "text": [
      "       Crash ID State  Month  Year    Dayweek      Time Crash Type  \\\n",
      "51274  19891555   NSW      1  1989  Wednesday  14:45:00   Multiple   \n",
      "51275  19892354   Vic      1  1989  Wednesday  15:27:00   Multiple   \n",
      "51276  19891465   NSW      1  1989  Wednesday  15:30:00     Single   \n",
      "51277  19891215   NSW      1  1989  Wednesday  15:50:00   Multiple   \n",
      "51278  19894128    SA      1  1989  Wednesday  16:10:00     Single   \n",
      "51279  19891246   NSW      1  1989  Wednesday  17:05:00     Single   \n",
      "51280  19892038   Vic      1  1989  Wednesday  18:50:00     Single   \n",
      "51281  19894064    SA      1  1989  Wednesday  19:00:00   Multiple   \n",
      "51282  19896006   Tas      1  1989  Wednesday  20:20:00   Multiple   \n",
      "51283  19895133    WA      1  1989  Wednesday  21:00:00   Multiple   \n",
      "\n",
      "       Number Fatalities Bus \\nInvolvement Heavy Rigid Truck Involvement  \\\n",
      "51274                  1                No                            -9   \n",
      "51275                  1                No                            No   \n",
      "51276                  1                No                            -9   \n",
      "51277                  3                No                            -9   \n",
      "51278                  1                No                            -9   \n",
      "51279                  1               Yes                            -9   \n",
      "51280                  1               Yes                            No   \n",
      "51281                  1                No                            -9   \n",
      "51282                  6                No                            -9   \n",
      "51283                  1                No                            -9   \n",
      "\n",
      "      Articulated Truck Involvement Speed Limit National Remoteness Areas  \\\n",
      "51274                            No          60                   Unknown   \n",
      "51275                           Yes          75                   Unknown   \n",
      "51276                            No          60                   Unknown   \n",
      "51277                            No         100                   Unknown   \n",
      "51278                            No          60                   Unknown   \n",
      "51279                            No          60                   Unknown   \n",
      "51280                            No          60                   Unknown   \n",
      "51281                            No         100                   Unknown   \n",
      "51282                           Yes         100                   Unknown   \n",
      "51283                            No          -9                   Unknown   \n",
      "\n",
      "      SA4 Name 2021 National LGA Name 2021 National Road Type  \\\n",
      "51274           NaN                    NaN       Undetermined   \n",
      "51275           NaN                    NaN       Undetermined   \n",
      "51276           NaN                    NaN       Undetermined   \n",
      "51277           NaN                    NaN       Undetermined   \n",
      "51278           NaN                    NaN       Undetermined   \n",
      "51279           NaN                    NaN       Undetermined   \n",
      "51280           NaN                    NaN       Undetermined   \n",
      "51281           NaN                    NaN       Undetermined   \n",
      "51282           NaN                    NaN       Undetermined   \n",
      "51283           NaN                    NaN       Undetermined   \n",
      "\n",
      "      Christmas Period Easter Period Day of week Time of Day  \n",
      "51274               No            No     Weekday         Day  \n",
      "51275               No            No     Weekday         Day  \n",
      "51276               No            No     Weekday         Day  \n",
      "51277               No            No     Weekday         Day  \n",
      "51278               No            No     Weekday         Day  \n",
      "51279               No            No     Weekday         Day  \n",
      "51280               No            No     Weekday       Night  \n",
      "51281               No            No     Weekday       Night  \n",
      "51282               No            No     Weekday       Night  \n",
      "51283               No            No     Weekday       Night  \n"
     ]
    },
    {
     "name": "stderr",
     "output_type": "stream",
     "text": [
      "/var/folders/1x/tzng_1pj7r199d3k835jz6_80000gn/T/ipykernel_9745/481770382.py:3: DtypeWarning: Columns (11,13,14) have mixed types. Specify dtype option on import or set low_memory=False.\n",
      "  df2 = pd.read_csv(\"temp.csv1\",skiprows=2,header=2)\n"
     ]
    }
   ],
   "source": [
    "df2 = pd.read_excel(\"bitre_fatal_crashes_dec2024.xlsx\",sheet_name=\"BITRE_Fatal_Crash\")\n",
    "df2.to_csv(\"temp.csv1\", index=False)\n",
    "df2 = pd.read_csv(\"temp.csv1\",skiprows=2,header=2)\n",
    "print(df2.tail(10))"
   ]
  },
  {
   "cell_type": "code",
   "execution_count": 4,
   "id": "abb7a60a-a521-4692-8bf8-982ea741555f",
   "metadata": {},
   "outputs": [
    {
     "name": "stdout",
     "output_type": "stream",
     "text": [
      "  Speed Limit                           SA4 Name 2021 National LGA Name 2021\n",
      "0         100                                Riverina            Wagga Wagga\n",
      "1          80  Sydney - Baulkham Hills and Hawkesbury             Hawkesbury\n",
      "2          50               Launceston and North East      Northern Midlands\n",
      "3         100              New England and North West      Armidale Regional\n",
      "4          -9                                     NaN                    NaN\n",
      "5         100                               Toowoomba         Lockyer Valley\n",
      "6         100             Barossa - Yorke - Mid North              Wakefield\n",
      "7          90                                     NaN                    NaN\n",
      "8          60                 Darling Downs - Maranoa         Southern Downs\n",
      "9          50                                  Hobart               Brighton\n"
     ]
    }
   ],
   "source": [
    "print(df2.iloc[:, [11,13,14]].head(10))"
   ]
  },
  {
   "cell_type": "code",
   "execution_count": 5,
   "id": "59c4dfe9-4672-4852-b91a-ae7a4a1b18af",
   "metadata": {},
   "outputs": [
    {
     "name": "stdout",
     "output_type": "stream",
     "text": [
      "       Crash ID State  Month  Year    Dayweek      Time Crash Type  \\\n",
      "51274  19891555   NSW      1  1989  Wednesday  14:45:00   Multiple   \n",
      "51275  19892354   Vic      1  1989  Wednesday  15:27:00   Multiple   \n",
      "51276  19891465   NSW      1  1989  Wednesday  15:30:00     Single   \n",
      "51277  19891215   NSW      1  1989  Wednesday  15:50:00   Multiple   \n",
      "51278  19894128    SA      1  1989  Wednesday  16:10:00     Single   \n",
      "51279  19891246   NSW      1  1989  Wednesday  17:05:00     Single   \n",
      "51280  19892038   Vic      1  1989  Wednesday  18:50:00     Single   \n",
      "51281  19894064    SA      1  1989  Wednesday  19:00:00   Multiple   \n",
      "51282  19896006   Tas      1  1989  Wednesday  20:20:00   Multiple   \n",
      "51283  19895133    WA      1  1989  Wednesday  21:00:00   Multiple   \n",
      "\n",
      "       Number Fatalities Bus \\nInvolvement Heavy Rigid Truck Involvement  \\\n",
      "51274                  1                No                            -9   \n",
      "51275                  1                No                            No   \n",
      "51276                  1                No                            -9   \n",
      "51277                  3                No                            -9   \n",
      "51278                  1                No                            -9   \n",
      "51279                  1               Yes                            -9   \n",
      "51280                  1               Yes                            No   \n",
      "51281                  1                No                            -9   \n",
      "51282                  6                No                            -9   \n",
      "51283                  1                No                            -9   \n",
      "\n",
      "      Articulated Truck Involvement Speed Limit National Remoteness Areas  \\\n",
      "51274                            No          60                   Unknown   \n",
      "51275                           Yes          75                   Unknown   \n",
      "51276                            No          60                   Unknown   \n",
      "51277                            No         100                   Unknown   \n",
      "51278                            No          60                   Unknown   \n",
      "51279                            No          60                   Unknown   \n",
      "51280                            No          60                   Unknown   \n",
      "51281                            No         100                   Unknown   \n",
      "51282                           Yes         100                   Unknown   \n",
      "51283                            No          -9                   Unknown   \n",
      "\n",
      "      SA4 Name 2021 National LGA Name 2021 National Road Type  \\\n",
      "51274           NaN                    NaN       Undetermined   \n",
      "51275           NaN                    NaN       Undetermined   \n",
      "51276           NaN                    NaN       Undetermined   \n",
      "51277           NaN                    NaN       Undetermined   \n",
      "51278           NaN                    NaN       Undetermined   \n",
      "51279           NaN                    NaN       Undetermined   \n",
      "51280           NaN                    NaN       Undetermined   \n",
      "51281           NaN                    NaN       Undetermined   \n",
      "51282           NaN                    NaN       Undetermined   \n",
      "51283           NaN                    NaN       Undetermined   \n",
      "\n",
      "      Christmas Period Easter Period Day of week Time of Day  \n",
      "51274               No            No     Weekday         Day  \n",
      "51275               No            No     Weekday         Day  \n",
      "51276               No            No     Weekday         Day  \n",
      "51277               No            No     Weekday         Day  \n",
      "51278               No            No     Weekday         Day  \n",
      "51279               No            No     Weekday         Day  \n",
      "51280               No            No     Weekday       Night  \n",
      "51281               No            No     Weekday       Night  \n",
      "51282               No            No     Weekday       Night  \n",
      "51283               No            No     Weekday       Night  \n"
     ]
    }
   ],
   "source": [
    "df_cleaned = df2.drop_duplicates(subset=\"Crash ID\", keep=\"first\")\n",
    "\n",
    "print(df_cleaned.tail(10))"
   ]
  },
  {
   "cell_type": "code",
   "execution_count": 6,
   "id": "14234414-c3fc-4a28-bc87-fa50ed27cd9c",
   "metadata": {},
   "outputs": [
    {
     "name": "stdout",
     "output_type": "stream",
     "text": [
      "       Crash ID State  Month  Year    Dayweek      Time Crash Type  \\\n",
      "56864  19891246   NSW      1  1989  Wednesday  17:05:00     Single   \n",
      "56865  19892038   Vic      1  1989  Wednesday  18:50:00     Single   \n",
      "56866  19894064    SA      1  1989  Wednesday  19:00:00   Multiple   \n",
      "56867  19896006   Tas      1  1989  Wednesday  20:20:00   Multiple   \n",
      "56868  19896006   Tas      1  1989  Wednesday  20:20:00   Multiple   \n",
      "56869  19896006   Tas      1  1989  Wednesday  20:20:00   Multiple   \n",
      "56870  19896006   Tas      1  1989  Wednesday  20:20:00   Multiple   \n",
      "56871  19896006   Tas      1  1989  Wednesday  20:20:00   Multiple   \n",
      "56872  19896006   Tas      1  1989  Wednesday  20:20:00   Multiple   \n",
      "56873  19895133    WA      1  1989  Wednesday  21:00:00   Multiple   \n",
      "\n",
      "      Bus Involvement Heavy Rigid Truck Involvement  \\\n",
      "56864             Yes                            -9   \n",
      "56865             Yes                            No   \n",
      "56866              No                            -9   \n",
      "56867              No                            -9   \n",
      "56868              No                            -9   \n",
      "56869              No                            -9   \n",
      "56870              No                            -9   \n",
      "56871              No                            -9   \n",
      "56872              No                            -9   \n",
      "56873              No                            -9   \n",
      "\n",
      "      Articulated Truck Involvement  ... Age National Remoteness Areas  \\\n",
      "56864                            No  ...   5                   Unknown   \n",
      "56865                            No  ...  15                   Unknown   \n",
      "56866                            No  ...  22                   Unknown   \n",
      "56867                           Yes  ...  13                   Unknown   \n",
      "56868                           Yes  ...  11                   Unknown   \n",
      "56869                           Yes  ...  13                   Unknown   \n",
      "56870                           Yes  ...  13                   Unknown   \n",
      "56871                           Yes  ...  18                   Unknown   \n",
      "56872                           Yes  ...  14                   Unknown   \n",
      "56873                            No  ...  70                   Unknown   \n",
      "\n",
      "      SA4 Name 2021  National LGA Name 2021 National Road Type  \\\n",
      "56864           NaN                     NaN       Undetermined   \n",
      "56865           NaN                     NaN       Undetermined   \n",
      "56866           NaN                     NaN       Undetermined   \n",
      "56867           NaN                     NaN       Undetermined   \n",
      "56868           NaN                     NaN       Undetermined   \n",
      "56869           NaN                     NaN       Undetermined   \n",
      "56870           NaN                     NaN       Undetermined   \n",
      "56871           NaN                     NaN       Undetermined   \n",
      "56872           NaN                     NaN       Undetermined   \n",
      "56873           NaN                     NaN       Undetermined   \n",
      "\n",
      "      Christmas Period Easter Period Age Group Day of week Time of day  \n",
      "56864               No            No   0_to_16     Weekday         Day  \n",
      "56865               No            No   0_to_16     Weekday       Night  \n",
      "56866               No            No  17_to_25     Weekday       Night  \n",
      "56867               No            No   0_to_16     Weekday       Night  \n",
      "56868               No            No   0_to_16     Weekday       Night  \n",
      "56869               No            No   0_to_16     Weekday       Night  \n",
      "56870               No            No   0_to_16     Weekday       Night  \n",
      "56871               No            No  17_to_25     Weekday       Night  \n",
      "56872               No            No   0_to_16     Weekday       Night  \n",
      "56873               No            No  65_to_74     Weekday       Night  \n",
      "\n",
      "[10 rows x 23 columns]\n"
     ]
    },
    {
     "name": "stderr",
     "output_type": "stream",
     "text": [
      "/var/folders/1x/tzng_1pj7r199d3k835jz6_80000gn/T/ipykernel_9745/2305155041.py:3: DtypeWarning: Columns (10,15,16) have mixed types. Specify dtype option on import or set low_memory=False.\n",
      "  df1 = pd.read_csv(\"temp2.csv\",skiprows=2,header=2)\n"
     ]
    }
   ],
   "source": [
    "df1 = pd.read_excel(\"bitre_fatalities_dec2024.xlsx\",sheet_name=\"BITRE_Fatality\")\n",
    "df1.to_csv(\"temp2.csv\", index=False)\n",
    "df1 = pd.read_csv(\"temp2.csv\",skiprows=2,header=2)\n",
    "print(df1.tail(10))"
   ]
  },
  {
   "cell_type": "code",
   "execution_count": 7,
   "id": "d510668e-8cbd-4a63-ac17-700b0a0970b3",
   "metadata": {},
   "outputs": [
    {
     "name": "stdout",
     "output_type": "stream",
     "text": [
      "       Crash ID State  Month  Year    Dayweek      Time Crash Type  \\\n",
      "0      20241115   NSW     12  2024     Friday  04:00:00     Single   \n",
      "1      20241125   NSW     12  2024     Friday  06:15:00     Single   \n",
      "2      20246013   Tas     12  2024     Friday  09:43:00   Multiple   \n",
      "3      20241002   NSW     12  2024     Friday  10:35:00   Multiple   \n",
      "4      20242261   Vic     12  2024     Friday  11:30:00   Multiple   \n",
      "...         ...   ...    ...   ...        ...       ...        ...   \n",
      "56492  19896006   Tas      1  1989  Wednesday  20:20:00   Multiple   \n",
      "56493  19896006   Tas      1  1989  Wednesday  20:20:00   Multiple   \n",
      "56494  19896006   Tas      1  1989  Wednesday  20:20:00   Multiple   \n",
      "56495  19896006   Tas      1  1989  Wednesday  20:20:00   Multiple   \n",
      "56496  19895133    WA      1  1989  Wednesday  21:00:00   Multiple   \n",
      "\n",
      "       Number Fatalities Bus \\nInvolvement Heavy Rigid Truck Involvement  ...  \\\n",
      "0                      1                No                            No  ...   \n",
      "1                      1                No                            No  ...   \n",
      "2                      1                No                            No  ...   \n",
      "3                      1                No                            No  ...   \n",
      "4                      1                -9                            -9  ...   \n",
      "...                  ...               ...                           ...  ...   \n",
      "56492                  6                No                            -9  ...   \n",
      "56493                  6                No                            -9  ...   \n",
      "56494                  6                No                            -9  ...   \n",
      "56495                  6                No                            -9  ...   \n",
      "56496                  1                No                            -9  ...   \n",
      "\n",
      "      Christmas Period Easter Period Day of week Time of Day Bus Involvement  \\\n",
      "0                  Yes            No     Weekday       Night              No   \n",
      "1                   No            No     Weekday         Day              No   \n",
      "2                  Yes            No     Weekday         Day              No   \n",
      "3                   No            No     Weekday         Day              No   \n",
      "4                   No            No     Weekday         Day              -9   \n",
      "...                ...           ...         ...         ...             ...   \n",
      "56492               No            No     Weekday       Night              No   \n",
      "56493               No            No     Weekday       Night              No   \n",
      "56494               No            No     Weekday       Night              No   \n",
      "56495               No            No     Weekday       Night              No   \n",
      "56496               No            No     Weekday       Night              No   \n",
      "\n",
      "       Road User  Gender   Age Age Group Time of day  \n",
      "0         Driver    Male  74.0  65_to_74       Night  \n",
      "1         Driver  Female  19.0  17_to_25         Day  \n",
      "2         Driver  Female  33.0  26_to_39         Day  \n",
      "3         Driver  Female  32.0  26_to_39         Day  \n",
      "4      Passenger    Male  62.0  40_to_64         Day  \n",
      "...          ...     ...   ...       ...         ...  \n",
      "56492  Passenger  Female  13.0   0_to_16       Night  \n",
      "56493  Passenger    Male  13.0   0_to_16       Night  \n",
      "56494     Driver    Male  18.0  17_to_25       Night  \n",
      "56495  Passenger  Female  14.0   0_to_16       Night  \n",
      "56496     Driver    Male  70.0  65_to_74       Night  \n",
      "\n",
      "[56497 rows x 26 columns]\n"
     ]
    }
   ],
   "source": [
    "merged_df = pd.merge(df_cleaned, df1, on=['Crash ID', 'Time', 'State', 'Month', 'Year', 'Dayweek', \n",
    "                                    'Crash Type', 'Heavy Rigid Truck Involvement',\n",
    "                                    'Articulated Truck Involvement', 'Speed Limit', \n",
    "                                    'National Remoteness Areas', 'SA4 Name 2021', \n",
    "                                    'National LGA Name 2021', 'National Road Type','Day of week',\n",
    "                                    'Easter Period', 'Christmas Period'], how='left')\n",
    "\n",
    "print(merged_df)"
   ]
  },
  {
   "cell_type": "code",
   "execution_count": 8,
   "id": "aaeb7005-507f-4a55-8949-6883f4cbcbc2",
   "metadata": {},
   "outputs": [],
   "source": [
    "merged_df.replace(-9, \"Undetermined\", inplace=True)"
   ]
  },
  {
   "cell_type": "code",
   "execution_count": 9,
   "id": "23bcec22-c19f-443d-b491-0ce446af884d",
   "metadata": {},
   "outputs": [],
   "source": [
    "merged_df.replace('-9', 'Undetermined', inplace=True)"
   ]
  },
  {
   "cell_type": "code",
   "execution_count": 10,
   "id": "6cd2128c-d1aa-4db5-8aa9-270a954af71e",
   "metadata": {},
   "outputs": [
    {
     "name": "stdout",
     "output_type": "stream",
     "text": [
      "Index(['Crash ID', 'State', 'Month', 'Year', 'Dayweek', 'Time', 'Crash Type',\n",
      "       'Number Fatalities', 'Bus \\nInvolvement',\n",
      "       'Heavy Rigid Truck Involvement', 'Articulated Truck Involvement',\n",
      "       'Speed Limit', 'National Remoteness Areas', 'SA4 Name 2021',\n",
      "       'National LGA Name 2021', 'National Road Type', 'Christmas Period',\n",
      "       'Easter Period', 'Day of week', 'Time of Day', 'Bus Involvement',\n",
      "       'Road User', 'Gender', 'Age', 'Age Group', 'Time of day'],\n",
      "      dtype='object')\n"
     ]
    }
   ],
   "source": [
    "print(merged_df.columns)"
   ]
  },
  {
   "cell_type": "code",
   "execution_count": 11,
   "id": "e24dbd9d-ec09-47b7-adb7-3d99d393a161",
   "metadata": {},
   "outputs": [
    {
     "name": "stdout",
     "output_type": "stream",
     "text": [
      "['Crash ID', 'State', 'Month', 'Year', 'Dayweek', 'Time', 'Crash Type', 'Number Fatalities', 'Bus \\nInvolvement', 'Heavy Rigid Truck Involvement', 'Articulated Truck Involvement', 'Speed Limit', 'National Remoteness Areas', 'SA4 Name 2021', 'National LGA Name 2021', 'National Road Type', 'Christmas Period', 'Easter Period', 'Day of week', 'Time of Day', 'Bus Involvement', 'Road User', 'Gender', 'Age', 'Age Group', 'Time of day']\n"
     ]
    }
   ],
   "source": [
    "print(merged_df.columns.tolist())"
   ]
  },
  {
   "cell_type": "code",
   "execution_count": 12,
   "id": "29755ee4-7577-4550-bea1-5758397ad976",
   "metadata": {},
   "outputs": [],
   "source": [
    "# 替换 '<40' 为 40，'Undetermined' 为 -9，并转为数值类型\n",
    "merged_df['Speed Limit'] = merged_df['Speed Limit'].replace({\n",
    "    '<40': 40,\n",
    "    'Undetermined': -9\n",
    "})\n",
    "\n",
    "# 转换整列为数值类型（出错的会被转为 NaN，可根据需要加上 error handling）\n",
    "merged_df['Speed Limit'] = pd.to_numeric(merged_df['Speed Limit'], errors='coerce')\n"
   ]
  },
  {
   "cell_type": "code",
   "execution_count": 13,
   "id": "42a03d43-7dc3-4af4-a2e2-5d7c1cd9a41b",
   "metadata": {},
   "outputs": [],
   "source": [
    "merged_df.fillna('Undetermined', inplace=True)"
   ]
  },
  {
   "cell_type": "code",
   "execution_count": 14,
   "id": "a1e27176-085f-4651-8eed-f4bade69c5b2",
   "metadata": {},
   "outputs": [],
   "source": [
    "merged_df.index = range(1, len(merged_df) + 1)"
   ]
  },
  {
   "cell_type": "code",
   "execution_count": 15,
   "id": "2ab710f1-b113-4334-bdc1-9d027f3d3e7f",
   "metadata": {},
   "outputs": [],
   "source": [
    "merged_df.to_csv(\"merge.csv\", index=True)"
   ]
  },
  {
   "cell_type": "code",
   "execution_count": 16,
   "id": "beb8c5b2-8951-4216-88ee-9efc8e42040e",
   "metadata": {},
   "outputs": [],
   "source": [
    "header=['National LGA Name 2021','Dwelling Records','add']\n",
    "transactions = pd.read_csv(\"LGAbefore.csv\", skiprows=12,header=None)\n",
    "transactions.columns = header\n",
    "transactions[transactions.columns[1]] = pd.to_numeric(transactions[transactions.columns[1]], errors='coerce')\n",
    "transactions = transactions.apply(lambda x: x.str.strip() if x.dtype == \"object\" else x)\n",
    "transactions = transactions.dropna(subset=[transactions.columns[1]])\n",
    "transactions.iloc[:, :2].to_csv('processed_LGA.csv', index=False)"
   ]
  },
  {
   "cell_type": "code",
   "execution_count": 17,
   "id": "bd83a53a-1437-4b8d-8499-0f9b5d21be97",
   "metadata": {},
   "outputs": [
    {
     "name": "stdout",
     "output_type": "stream",
     "text": [
      "       Crash ID State  Month  Year    Dayweek      Time Crash Type  \\\n",
      "0      20241115   NSW     12  2024     Friday  04:00:00     Single   \n",
      "1      20241125   NSW     12  2024     Friday  06:15:00     Single   \n",
      "2      20246013   Tas     12  2024     Friday  09:43:00   Multiple   \n",
      "3      20241002   NSW     12  2024     Friday  10:35:00   Multiple   \n",
      "4      20242261   Vic     12  2024     Friday  11:30:00   Multiple   \n",
      "...         ...   ...    ...   ...        ...       ...        ...   \n",
      "56492  19896006   Tas      1  1989  Wednesday  20:20:00   Multiple   \n",
      "56493  19896006   Tas      1  1989  Wednesday  20:20:00   Multiple   \n",
      "56494  19896006   Tas      1  1989  Wednesday  20:20:00   Multiple   \n",
      "56495  19896006   Tas      1  1989  Wednesday  20:20:00   Multiple   \n",
      "56496  19895133    WA      1  1989  Wednesday  21:00:00   Multiple   \n",
      "\n",
      "       Number Fatalities Bus \\nInvolvement Heavy Rigid Truck Involvement  ...  \\\n",
      "0                      1                No                            No  ...   \n",
      "1                      1                No                            No  ...   \n",
      "2                      1                No                            No  ...   \n",
      "3                      1                No                            No  ...   \n",
      "4                      1      Undetermined                  Undetermined  ...   \n",
      "...                  ...               ...                           ...  ...   \n",
      "56492                  6                No                  Undetermined  ...   \n",
      "56493                  6                No                  Undetermined  ...   \n",
      "56494                  6                No                  Undetermined  ...   \n",
      "56495                  6                No                  Undetermined  ...   \n",
      "56496                  1                No                  Undetermined  ...   \n",
      "\n",
      "      Easter Period  Day of week Time of Day Bus Involvement  Road User  \\\n",
      "0                No      Weekday       Night              No     Driver   \n",
      "1                No      Weekday         Day              No     Driver   \n",
      "2                No      Weekday         Day              No     Driver   \n",
      "3                No      Weekday         Day              No     Driver   \n",
      "4                No      Weekday         Day    Undetermined  Passenger   \n",
      "...             ...          ...         ...             ...        ...   \n",
      "56492            No      Weekday       Night              No  Passenger   \n",
      "56493            No      Weekday       Night              No  Passenger   \n",
      "56494            No      Weekday       Night              No     Driver   \n",
      "56495            No      Weekday       Night              No  Passenger   \n",
      "56496            No      Weekday       Night              No     Driver   \n",
      "\n",
      "       Gender   Age Age Group Time of day Dwelling Records  \n",
      "0        Male  74.0  65_to_74       Night          28244.0  \n",
      "1      Female  19.0  17_to_25         Day          25523.0  \n",
      "2      Female  33.0  26_to_39         Day           6444.0  \n",
      "3      Female  32.0  26_to_39         Day          12955.0  \n",
      "4        Male  62.0  40_to_64         Day             -9.0  \n",
      "...       ...   ...       ...         ...              ...  \n",
      "56492  Female  13.0   0_to_16       Night             -9.0  \n",
      "56493    Male  13.0   0_to_16       Night             -9.0  \n",
      "56494    Male  18.0  17_to_25       Night             -9.0  \n",
      "56495  Female  14.0   0_to_16       Night             -9.0  \n",
      "56496    Male  70.0  65_to_74       Night             -9.0  \n",
      "\n",
      "[56497 rows x 27 columns]\n"
     ]
    }
   ],
   "source": [
    "lga_df=pd.read_csv('processed_LGA.csv')\n",
    "df = pd.merge(merged_df, lga_df, on=['National LGA Name 2021'], how='left')\n",
    "df.fillna( -9 , inplace=True)\n",
    "print(df)"
   ]
  },
  {
   "cell_type": "code",
   "execution_count": 18,
   "id": "3556b8aa-3f45-40be-a6ee-5064a09adb9f",
   "metadata": {},
   "outputs": [
    {
     "name": "stdout",
     "output_type": "stream",
     "text": [
      "Index(['Crash ID', 'State', 'Month', 'Year', 'Dayweek', 'Time', 'Crash Type',\n",
      "       'Number Fatalities', 'Bus \\nInvolvement',\n",
      "       'Heavy Rigid Truck Involvement', 'Articulated Truck Involvement',\n",
      "       'Speed Limit', 'National Remoteness Areas', 'SA4 Name 2021',\n",
      "       'National LGA Name 2021', 'National Road Type', 'Christmas Period',\n",
      "       'Easter Period', 'Day of week', 'Time of Day', 'Bus Involvement',\n",
      "       'Road User', 'Gender', 'Age', 'Age Group', 'Time of day',\n",
      "       'Dwelling Records'],\n",
      "      dtype='object')\n"
     ]
    }
   ],
   "source": [
    "print(df.columns)"
   ]
  },
  {
   "cell_type": "code",
   "execution_count": 19,
   "id": "3a5924e7-e483-42cf-81a5-c52475e33e4b",
   "metadata": {},
   "outputs": [],
   "source": [
    "# Create the dimension tables with index starting from 1\n",
    "# 时间维度表\n",
    "time_dim = df[['Month', 'Year', 'Dayweek', 'Time', 'Day of week', 'Time of Day']].drop_duplicates().reset_index(drop=True)\n",
    "time_dim['TimeID'] = range(1, len(time_dim) + 1)  # 索引从 1 开始\n",
    "\n",
    "# 地点维度表\n",
    "location_dim = df[['National LGA Name 2021', 'State', 'National Remoteness Areas', 'SA4 Name 2021']].drop_duplicates().reset_index(drop=True)\n",
    "location_dim['LocationID'] = range(1, len(location_dim) + 1)  # 索引从 1 开始\n",
    "\n",
    "# 人员维度表\n",
    "personnel_dim = df[['Crash ID','Gender', 'Age Group', 'Road User']].drop_duplicates().reset_index(drop=True)\n",
    "personnel_dim['PersonnelID'] = range(1, len(personnel_dim) + 1)  # 索引从 1 开始\n",
    "\n",
    "# 车辆类型维度表\n",
    "vehicle_type_dim = df[['Bus Involvement', 'Heavy Rigid Truck Involvement', 'Articulated Truck Involvement']].drop_duplicates().reset_index(drop=True)\n",
    "vehicle_type_dim['VehicleID'] = range(1, len(vehicle_type_dim) + 1)  # 索引从 1 开始\n",
    "\n",
    "# 道路类型维度表\n",
    "road_type_dim = df[['National Road Type']].drop_duplicates().reset_index(drop=True)\n",
    "road_type_dim['RoadID'] = range(1, len(road_type_dim) + 1)  # 索引从 1 开始\n",
    "\n",
    "# 事故信息维度表\n",
    "accident_info_dim = df[['Crash Type']].drop_duplicates().reset_index(drop=True)\n",
    "accident_info_dim['CrashTypeID'] = range(1, len(accident_info_dim) + 1)  # 索引从 1 开始\n",
    "\n",
    "# 严重程度维度表 (添加ID)\n",
    "number_fatalities = df[['Number Fatalities']].drop_duplicates().reset_index(drop=True)\n",
    "number_fatalities['FatalityID'] = range(1, len(number_fatalities) + 1)  # 索引从 1 开始\n",
    "\n",
    "# 特殊节假日维度表\n",
    "special_period_dim = df[['Christmas Period', 'Easter Period']].drop_duplicates().reset_index(drop=True)\n",
    "special_period_dim['SpecialPeriodID'] = range(1, len(special_period_dim) + 1)  # 索引从 1 开始\n",
    "\n",
    "# 住宅记录维度表 (添加ID)\n",
    "dwelling_dim = df[['Dwelling Records']].drop_duplicates().reset_index(drop=True)\n",
    "dwelling_dim['DwellingID'] = range(1, len(dwelling_dim) + 1)  # 索引从 1 开始\n",
    "\n",
    "# 限速维度表\n",
    "speed_limit_dim = df[['Speed Limit']].drop_duplicates().reset_index(drop=True)\n",
    "speed_limit_dim['SpeedLimitID'] = speed_limit_dim.index + 1  # 另一种方式，等同于 range(1, len(speed_limit_dim) + 1)\n"
   ]
  },
  {
   "cell_type": "code",
   "execution_count": 20,
   "id": "f5689dd1-dbe5-43cf-a70d-a963d401d8dd",
   "metadata": {},
   "outputs": [
    {
     "data": {
      "text/plain": [
       "['time_dim.csv',\n",
       " 'location_dim.csv',\n",
       " 'personnel_dim.csv',\n",
       " 'vehicle_type_dim.csv',\n",
       " 'road_type_dim.csv',\n",
       " 'accident_type_dim.csv',\n",
       " 'number_fatalities.csv',\n",
       " 'special_period_dim.csv',\n",
       " 'speed_limit_dim',\n",
       " 'dwelling_dim']"
      ]
     },
     "execution_count": 20,
     "metadata": {},
     "output_type": "execute_result"
    }
   ],
   "source": [
    "# 保存每个维度表为 CSV 文件\n",
    "time_dim.to_csv(\"./dim/time_dim.csv\", index=False)\n",
    "location_dim.to_csv(\"./dim/location_dim.csv\", index=False)\n",
    "personnel_dim.to_csv(\"./dim/personnel_dim.csv\", index=False)\n",
    "vehicle_type_dim.to_csv(\"./dim/vehicle_type_dim.csv\", index=False)\n",
    "road_type_dim.to_csv(\"./dim/road_type_dim.csv\", index=False)\n",
    "accident_info_dim.to_csv(\"./dim/accident_info_dim.csv\", index=False)\n",
    "number_fatalities.to_csv(\"./dim/number_fatalities.csv\", index=False)\n",
    "special_period_dim.to_csv(\"./dim/special_period_dim.csv\", index=False)\n",
    "dwelling_dim.to_csv(\"./dim/dwelling_dim.csv\", index=False)\n",
    "speed_limit_dim.to_csv(\"./dim/speed_limit_dim.csv\", index=False)\n",
    "\n",
    "# Display the paths for confirmation\n",
    "output_files = [\n",
    "    'time_dim.csv', 'location_dim.csv', 'personnel_dim.csv', \n",
    "    'vehicle_type_dim.csv', 'road_type_dim.csv', \n",
    "    'accident_type_dim.csv', 'number_fatalities.csv', 'special_period_dim.csv'\n",
    "    , 'speed_limit_dim', 'dwelling_dim'\n",
    "]\n",
    "\n",
    "output_files\n"
   ]
  },
  {
   "cell_type": "code",
   "execution_count": 21,
   "id": "4710c251-f03c-4330-8d35-5cb9febd0bd0",
   "metadata": {},
   "outputs": [
    {
     "name": "stdout",
     "output_type": "stream",
     "text": [
      "   Crash ID State  Month  Year Dayweek      Time Crash Type  \\\n",
      "0  20241115   NSW     12  2024  Friday  04:00:00     Single   \n",
      "1  20241125   NSW     12  2024  Friday  06:15:00     Single   \n",
      "2  20246013   Tas     12  2024  Friday  09:43:00   Multiple   \n",
      "3  20241002   NSW     12  2024  Friday  10:35:00   Multiple   \n",
      "4  20242261   Vic     12  2024  Friday  11:30:00   Multiple   \n",
      "\n",
      "   Number Fatalities Bus \\nInvolvement Heavy Rigid Truck Involvement  ...  \\\n",
      "0                  1                No                            No  ...   \n",
      "1                  1                No                            No  ...   \n",
      "2                  1                No                            No  ...   \n",
      "3                  1                No                            No  ...   \n",
      "4                  1      Undetermined                  Undetermined  ...   \n",
      "\n",
      "  TimeID  LocationID PersonnelID VehicleID RoadID CrashTypeID FatalityID  \\\n",
      "0      1           1           1         1      1           1          1   \n",
      "1      2           2           2         1      2           1          1   \n",
      "2      3           3           3         1      2           2          1   \n",
      "3      4           4           4         1      3           2          1   \n",
      "4      5           5           5         2      4           2          1   \n",
      "\n",
      "  SpecialPeriodID DwellingID SpeedLimitID  \n",
      "0               1          1            1  \n",
      "1               2          2            2  \n",
      "2               1          3            3  \n",
      "3               2          4            1  \n",
      "4               2          5            4  \n",
      "\n",
      "[5 rows x 37 columns]\n"
     ]
    }
   ],
   "source": [
    "# Merge all dimension tables into the main dataframe\n",
    "# 合并 time_dim 和 df\n",
    "df = pd.merge(df, time_dim[['Month', 'Year', 'Dayweek', 'Time', 'Day of week', 'Time of Day', 'TimeID']], \n",
    "              on=['Month', 'Year', 'Dayweek', 'Time', 'Day of week', 'Time of Day'], \n",
    "              how='left')\n",
    "\n",
    "# 合并 location_dim 和 df\n",
    "df = pd.merge(df, location_dim[['National LGA Name 2021', 'State', 'National Remoteness Areas', 'SA4 Name 2021', 'LocationID']], \n",
    "              on=['National LGA Name 2021', 'State', 'National Remoteness Areas', 'SA4 Name 2021'], \n",
    "              how='left')\n",
    "\n",
    "# 合并 personnel_dim 和 df\n",
    "df = pd.merge(df, personnel_dim[['Crash ID', 'Gender', 'Age Group', 'Road User', 'PersonnelID']], \n",
    "              on=['Crash ID','Gender', 'Age Group', 'Road User'], \n",
    "              how='left')\n",
    "\n",
    "# 合并 vehicle_type_dim 和 df\n",
    "df = pd.merge(df, vehicle_type_dim[['Bus Involvement', 'Heavy Rigid Truck Involvement', 'Articulated Truck Involvement', 'VehicleID']], \n",
    "              on=['Bus Involvement', 'Heavy Rigid Truck Involvement', 'Articulated Truck Involvement'], \n",
    "              how='left')\n",
    "\n",
    "# 合并 road_type_dim 和 df\n",
    "df = pd.merge(df, road_type_dim[['National Road Type', 'RoadID']], \n",
    "              on=['National Road Type'], \n",
    "              how='left')\n",
    "\n",
    "# 合并 accident_info_dim 和 df\n",
    "df = pd.merge(df, accident_info_dim[['Crash Type', 'CrashTypeID']], \n",
    "              on=['Crash Type'], \n",
    "              how='left')\n",
    "\n",
    "# 合并 number_fatalities 和 df\n",
    "df = pd.merge(df, number_fatalities[['Number Fatalities', 'FatalityID']], \n",
    "              on=['Number Fatalities'], \n",
    "              how='left')\n",
    "\n",
    "# 合并 special_period_dim 和 df\n",
    "df = pd.merge(df, special_period_dim[['Christmas Period', 'Easter Period', 'SpecialPeriodID']], \n",
    "              on=['Christmas Period', 'Easter Period'], \n",
    "              how='left')\n",
    "\n",
    "# 合并 dwelling_dim 和 df\n",
    "df = pd.merge(df, dwelling_dim[['Dwelling Records', 'DwellingID']], \n",
    "              on=['Dwelling Records'], \n",
    "              how='left')\n",
    "\n",
    "# 合并 speed_limit_dim 和 df\n",
    "df = pd.merge(df, speed_limit_dim[['Speed Limit', 'SpeedLimitID']], \n",
    "              on=['Speed Limit'], \n",
    "              how='left')\n",
    "\n",
    "# 查看合并后的数据\n",
    "print(df.head())\n",
    "\n",
    "# 保存为 CSV 文件\n",
    "df.to_csv(\"merged_data.csv\", index=False)\n"
   ]
  },
  {
   "cell_type": "code",
   "execution_count": 22,
   "id": "51e043c4-261a-4a12-9ba8-db2b188cdf7f",
   "metadata": {},
   "outputs": [],
   "source": [
    "fact_table = df[[\n",
    "    'TimeID',\n",
    "    'LocationID',\n",
    "    'PersonnelID',\n",
    "    'VehicleID',\n",
    "    'RoadID',\n",
    "    'CrashTypeID',\n",
    "    'SpecialPeriodID',\n",
    "    'DwellingID',\n",
    "    'SpeedLimitID',\n",
    "    'FatalityID', \n",
    "]]\n"
   ]
  },
  {
   "cell_type": "code",
   "execution_count": 23,
   "id": "fa1c3f6a-039f-49ca-b7f7-c06046218a6c",
   "metadata": {},
   "outputs": [
    {
     "name": "stdout",
     "output_type": "stream",
     "text": [
      "                      TimeID  LocationID  PersonnelID  VehicleID  RoadID  \\\n",
      "Fact Dimension Index                                                       \n",
      "1                          1           1            1          1       1   \n",
      "2                          2           2            2          1       2   \n",
      "3                          3           3            3          1       2   \n",
      "4                          4           4            4          1       3   \n",
      "5                          5           5            5          2       4   \n",
      "\n",
      "                      CrashTypeID  SpecialPeriodID  DwellingID  SpeedLimitID  \\\n",
      "Fact Dimension Index                                                           \n",
      "1                               1                1           1             1   \n",
      "2                               1                2           2             2   \n",
      "3                               2                1           3             3   \n",
      "4                               2                2           4             1   \n",
      "5                               2                2           5             4   \n",
      "\n",
      "                      FatalityID  \n",
      "Fact Dimension Index              \n",
      "1                              1  \n",
      "2                              1  \n",
      "3                              1  \n",
      "4                              1  \n",
      "5                              1  \n"
     ]
    }
   ],
   "source": [
    "fact_table = fact_table.copy()\n",
    "fact_table['Fact Dimension Index'] = range(1, len(fact_table) + 1)\n",
    "\n",
    "# 将 'Fact Dimension Index' 设置为主键\n",
    "fact_table.set_index('Fact Dimension Index', inplace=True)\n",
    "\n",
    "# 查看最终的事实表\n",
    "print(fact_table.head())\n",
    "\n",
    "# 保存为 CSV 文件\n",
    "fact_table.to_csv(\"./dim/fact_table_with_index.csv\", index=True)\n"
   ]
  }
 ],
 "metadata": {
  "kernelspec": {
   "display_name": "myenv",
   "language": "python",
   "name": "python3"
  },
  "language_info": {
   "codemirror_mode": {
    "name": "ipython",
    "version": 3
   },
   "file_extension": ".py",
   "mimetype": "text/x-python",
   "name": "python",
   "nbconvert_exporter": "python",
   "pygments_lexer": "ipython3",
   "version": "3.13.2"
  }
 },
 "nbformat": 4,
 "nbformat_minor": 5
}
